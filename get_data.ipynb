{
 "cells": [
  {
   "metadata": {
    "ExecuteTime": {
     "end_time": "2024-12-10T19:37:01.617950Z",
     "start_time": "2024-12-10T19:37:01.611528Z"
    }
   },
   "cell_type": "code",
   "source": [
    "import pandas as pd\n",
    "import numpy as np\n",
    "import sqlite3\n",
    "from datetime import datetime"
   ],
   "id": "6e1f0121b4c64b04",
   "outputs": [],
   "execution_count": 13
  },
  {
   "metadata": {
    "ExecuteTime": {
     "end_time": "2024-12-10T19:37:26.165559Z",
     "start_time": "2024-12-10T19:37:26.161921Z"
    }
   },
   "cell_type": "code",
   "source": [
    "start_date = \"01/31/1957\"\n",
    "end_date = \"12/31/2021\""
   ],
   "id": "a03e24b3d7ac0c86",
   "outputs": [],
   "execution_count": 14
  },
  {
   "metadata": {
    "ExecuteTime": {
     "end_time": "2024-12-10T20:04:55.625289Z",
     "start_time": "2024-12-10T20:04:55.613933Z"
    }
   },
   "cell_type": "code",
   "source": [
    "from sqlalchemy import create_engine\n",
    "import os\n",
    "from dotenv import load_dotenv\n",
    "load_dotenv()\n",
    "\n",
    "connection_string = (\n",
    "  \"postgresql+psycopg2://\"\n",
    " f\"{'USERNAME'}:{'PASSWORD'}\"\n",
    "  \"@wrds-pgdata.wharton.upenn.edu:9737/wrds\"\n",
    ")\n",
    "\n",
    "wrds = create_engine(connection_string, pool_pre_ping=True)"
   ],
   "id": "cc9cb294e3e8f0a5",
   "outputs": [],
   "execution_count": 29
  },
  {
   "metadata": {
    "ExecuteTime": {
     "end_time": "2024-12-10T20:05:35.677924Z",
     "start_time": "2024-12-10T20:04:59.137165Z"
    }
   },
   "cell_type": "code",
   "source": [
    "crsp_monthly_query = (\n",
    "  \"SELECT msf.permno, date_trunc('month', msf.mthcaldt)::date AS date, \"\n",
    "         \"msf.mthret AS ret, msf.shrout, msf.mthprc AS altprc, \"\n",
    "         \"ssih.primaryexch, ssih.siccd \"\n",
    "    \"FROM crsp.msf_v2 AS msf \"\n",
    "    \"INNER JOIN crsp.stksecurityinfohist AS ssih \"\n",
    "    \"ON msf.permno = ssih.permno AND \"\n",
    "       \"ssih.secinfostartdt <= msf.mthcaldt AND \"\n",
    "       \"msf.mthcaldt <= ssih.secinfoenddt \"\n",
    "   f\"WHERE msf.mthcaldt BETWEEN '{start_date}' AND '{end_date}' \"\n",
    "          \"AND ssih.sharetype = 'NS' \"\n",
    "          \"AND ssih.securitytype = 'EQTY' \"  \n",
    "          \"AND ssih.securitysubtype = 'COM' \" \n",
    "          \"AND ssih.usincflg = 'Y' \" \n",
    "          \"AND ssih.issuertype in ('ACOR', 'CORP') \" \n",
    "          \"AND ssih.primaryexch in ('N', 'A', 'Q') \"\n",
    "          \"AND ssih.conditionaltype in ('RW', 'NW') \"\n",
    "          \"AND ssih.tradingstatusflg = 'A'\"\n",
    ")\n",
    "\n",
    "crsp_monthly = (pd.read_sql_query(\n",
    "    sql = crsp_monthly_query,\n",
    "    con = wrds,\n",
    "    dtype = {\"permno\": int, \"siccd\": int},\n",
    "    parse_dates = {\"date\"})\n",
    "  .assign(shrout = lambda x: x[\"shrout\"]*1000)\n",
    ")"
   ],
   "id": "9d61d9cd10a75918",
   "outputs": [],
   "execution_count": 30
  },
  {
   "metadata": {
    "ExecuteTime": {
     "end_time": "2024-12-10T20:17:55.193892Z",
     "start_time": "2024-12-10T20:17:55.185437Z"
    }
   },
   "cell_type": "code",
   "source": [
    "os.chdir('/Users/eddiewu/Downloads/gu_kelly_xiu/')\n",
    "\n",
    "if not os.path.exists(\"data\"):\n",
    "  os.makedirs(\"data\")\n",
    "    \n",
    "tidy_finance = sqlite3.connect(database=\"data/tidy_finance_python.sqlite\")\n"
   ],
   "id": "67b18b3d620075b1",
   "outputs": [],
   "execution_count": 38
  },
  {
   "metadata": {
    "ExecuteTime": {
     "end_time": "2024-12-10T20:19:12.533273Z",
     "start_time": "2024-12-10T20:19:12.173590Z"
    }
   },
   "cell_type": "code",
   "source": [
    "import pandas_datareader as pdr\n",
    "\n",
    "factors_ff3_monthly_raw = pdr.DataReader(\n",
    "  name = \"F-F_Research_Data_Factors\",\n",
    "  data_source = \"famafrench\", \n",
    "  start = start_date, \n",
    "  end = end_date)[0]\n",
    "\n",
    "factors_ff3_monthly = (factors_ff3_monthly_raw\n",
    "  .divide(100)\n",
    "  .reset_index(names = \"date\")\n",
    "  .assign(date = lambda x: pd.to_datetime(x[\"date\"].astype(str)))\n",
    "  .rename(str.lower, axis = \"columns\")\n",
    "  .rename(columns = {\"mkt-rf\": \"mkt_excess\"})\n",
    ")\n"
   ],
   "id": "235833a5f27845f0",
   "outputs": [
    {
     "name": "stderr",
     "output_type": "stream",
     "text": [
      "/Users/eddiewu/Library/Python/3.9/lib/python/site-packages/urllib3/__init__.py:35: NotOpenSSLWarning: urllib3 v2 only supports OpenSSL 1.1.1+, currently the 'ssl' module is compiled with 'LibreSSL 2.8.3'. See: https://github.com/urllib3/urllib3/issues/3020\n",
      "  warnings.warn(\n",
      "/var/folders/4n/71vyv5y911sc9sp_7rhzkq1r0000gn/T/ipykernel_27186/3406512594.py:3: FutureWarning: The argument 'date_parser' is deprecated and will be removed in a future version. Please use 'date_format' instead, or read your data in as 'object' dtype and then call 'to_datetime'.\n",
      "  factors_ff3_monthly_raw = pdr.DataReader(\n",
      "/var/folders/4n/71vyv5y911sc9sp_7rhzkq1r0000gn/T/ipykernel_27186/3406512594.py:3: FutureWarning: The argument 'date_parser' is deprecated and will be removed in a future version. Please use 'date_format' instead, or read your data in as 'object' dtype and then call 'to_datetime'.\n",
      "  factors_ff3_monthly_raw = pdr.DataReader(\n"
     ]
    }
   ],
   "execution_count": 42
  },
  {
   "metadata": {
    "ExecuteTime": {
     "end_time": "2024-12-10T20:19:55.359975Z",
     "start_time": "2024-12-10T20:19:55.341575Z"
    }
   },
   "cell_type": "code",
   "source": [
    "(factors_ff3_monthly\n",
    "  .to_sql(name = \"factors_ff3_monthly\", \n",
    "          con = tidy_finance, \n",
    "          if_exists = \"replace\",\n",
    "          index = False)\n",
    ")"
   ],
   "id": "77161b9328daeed8",
   "outputs": [
    {
     "data": {
      "text/plain": [
       "780"
      ]
     },
     "execution_count": 44,
     "metadata": {},
     "output_type": "execute_result"
    }
   ],
   "execution_count": 44
  },
  {
   "metadata": {
    "ExecuteTime": {
     "end_time": "2024-12-10T20:20:00.336150Z",
     "start_time": "2024-12-10T20:20:00.332309Z"
    }
   },
   "cell_type": "code",
   "source": "tidy_finance = sqlite3.connect(database=\"data/tidy_finance_python.sqlite\")\n",
   "id": "e12cee1764215765",
   "outputs": [],
   "execution_count": 45
  },
  {
   "metadata": {
    "ExecuteTime": {
     "end_time": "2024-12-10T20:20:05.106194Z",
     "start_time": "2024-12-10T20:20:04.081634Z"
    }
   },
   "cell_type": "code",
   "source": [
    "\n",
    "factors_ff3_monthly = pd.read_sql_query(\n",
    "  sql = \"SELECT date, rf FROM factors_ff3_monthly\",\n",
    "  con = tidy_finance,\n",
    "  parse_dates = {\"date\"}\n",
    ")\n",
    "  \n",
    "crsp_monthly = (crsp_monthly\n",
    "  .merge(factors_ff3_monthly, how = \"left\", on = \"date\")\n",
    "  .assign(ret_excess = lambda x: x[\"ret\"]-x[\"rf\"])\n",
    "  .assign(ret_excess = lambda x: x[\"ret_excess\"].clip(lower=-1))\n",
    "  .drop(columns = [\"rf\"])\n",
    ")"
   ],
   "id": "57bc241fd39d8654",
   "outputs": [],
   "execution_count": 46
  },
  {
   "metadata": {
    "ExecuteTime": {
     "end_time": "2024-12-10T20:21:25.568762Z",
     "start_time": "2024-12-10T20:21:15.911181Z"
    }
   },
   "cell_type": "code",
   "source": [
    "(crsp_monthly\n",
    "  .to_sql(name = \"crsp_monthly\", \n",
    "          con = tidy_finance, \n",
    "          if_exists = \"replace\",\n",
    "          index = False)\n",
    ")"
   ],
   "id": "897712b592367821",
   "outputs": [
    {
     "data": {
      "text/plain": [
       "3354914"
      ]
     },
     "execution_count": 50,
     "metadata": {},
     "output_type": "execute_result"
    }
   ],
   "execution_count": 50
  },
  {
   "metadata": {},
   "cell_type": "code",
   "outputs": [],
   "execution_count": null,
   "source": "",
   "id": "39d74315d65c98b7"
  }
 ],
 "metadata": {
  "kernelspec": {
   "display_name": "Python 3",
   "language": "python",
   "name": "python3"
  },
  "language_info": {
   "codemirror_mode": {
    "name": "ipython",
    "version": 2
   },
   "file_extension": ".py",
   "mimetype": "text/x-python",
   "name": "python",
   "nbconvert_exporter": "python",
   "pygments_lexer": "ipython2",
   "version": "2.7.6"
  }
 },
 "nbformat": 4,
 "nbformat_minor": 5
}
