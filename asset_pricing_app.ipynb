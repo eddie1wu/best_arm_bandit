{
 "cells": [
  {
   "cell_type": "code",
   "id": "initial_id",
   "metadata": {
    "collapsed": true,
    "ExecuteTime": {
     "end_time": "2024-12-10T22:31:58.322972Z",
     "start_time": "2024-12-10T22:31:18.782717Z"
    }
   },
   "source": [
    "import pandas as pd\n",
    "import sqlite3\n",
    "\n",
    "data_path = \"/Users/eddiewu/Downloads/gu_kelly_xiu/\"\n",
    "covariate_file = \"datashare/datashare.csv\"\n",
    "df = pd.read_csv(data_path + covariate_file)\n"
   ],
   "outputs": [],
   "execution_count": 1
  },
  {
   "metadata": {
    "ExecuteTime": {
     "end_time": "2024-12-10T22:32:02.072761Z",
     "start_time": "2024-12-10T22:31:58.625485Z"
    }
   },
   "cell_type": "code",
   "source": [
    "returns_file = \"data/tidy_finance_python.sqlite\"\n",
    "tidy_finance = sqlite3.connect(database = data_path + returns_file)\n",
    "\n",
    "\n",
    "df_returns = pd.read_sql_query(\n",
    "  sql = \"SELECT permno, date, ret_excess FROM crsp_monthly\",\n",
    "  con = tidy_finance,\n",
    "  parse_dates = {\"date\"}\n",
    ")\n",
    "\n",
    "tidy_finance.close()"
   ],
   "id": "eb28cff871c4c5da",
   "outputs": [],
   "execution_count": 2
  },
  {
   "metadata": {
    "ExecuteTime": {
     "end_time": "2024-12-10T22:32:03.955727Z",
     "start_time": "2024-12-10T22:32:03.696901Z"
    }
   },
   "cell_type": "code",
   "source": [
    "df[\"DATE\"] = pd.to_datetime(df[\"DATE\"], format=\"%Y%m%d\")\n",
    "df[\"month\"] = df[\"DATE\"].dt.to_period(\"M\")\n",
    "df_returns[\"month\"] = df_returns[\"date\"].dt.to_period(\"M\")\n"
   ],
   "id": "caafa2bdf5977eb1",
   "outputs": [],
   "execution_count": 3
  },
  {
   "metadata": {
    "ExecuteTime": {
     "end_time": "2024-12-10T22:32:13.037556Z",
     "start_time": "2024-12-10T22:32:04.442061Z"
    }
   },
   "cell_type": "code",
   "source": "df = df.merge(df_returns, how = 'left', on = ['permno', 'month'])\n",
   "id": "2baac581101b3863",
   "outputs": [],
   "execution_count": 4
  },
  {
   "metadata": {
    "ExecuteTime": {
     "end_time": "2024-12-10T22:32:15.974357Z",
     "start_time": "2024-12-10T22:32:14.071493Z"
    }
   },
   "cell_type": "code",
   "source": "df.isna().sum()",
   "id": "60a78eb03a6bbb80",
   "outputs": [
    {
     "data": {
      "text/plain": [
       "permno             0\n",
       "DATE               0\n",
       "mvel1           3070\n",
       "beta          400564\n",
       "betasq        400564\n",
       "               ...  \n",
       "zerotrade     309813\n",
       "sic2          300359\n",
       "month              0\n",
       "date          809084\n",
       "ret_excess    809135\n",
       "Length: 100, dtype: int64"
      ]
     },
     "execution_count": 5,
     "metadata": {},
     "output_type": "execute_result"
    }
   ],
   "execution_count": 5
  },
  {
   "metadata": {
    "ExecuteTime": {
     "end_time": "2024-12-10T22:34:20.764456Z",
     "start_time": "2024-12-10T22:32:29.429630Z"
    }
   },
   "cell_type": "code",
   "source": [
    "# Fill NA by cross-sectional median\n",
    "df = df.groupby(\"month\").apply(\n",
    "    lambda group: group.fillna(group.median(numeric_only = True))\n",
    ").reset_index(drop = True)\n",
    "\n"
   ],
   "id": "93d675587127a062",
   "outputs": [
    {
     "name": "stderr",
     "output_type": "stream",
     "text": [
      "/var/folders/4n/71vyv5y911sc9sp_7rhzkq1r0000gn/T/ipykernel_31486/3678751893.py:2: DeprecationWarning: DataFrameGroupBy.apply operated on the grouping columns. This behavior is deprecated, and in a future version of pandas the grouping columns will be excluded from the operation. Either pass `include_groups=False` to exclude the groupings or explicitly select the grouping columns after groupby to silence this warning.\n",
      "  df = df.groupby(\"month\").apply(\n"
     ]
    }
   ],
   "execution_count": 6
  },
  {
   "metadata": {
    "ExecuteTime": {
     "end_time": "2024-12-10T22:35:26.363310Z",
     "start_time": "2024-12-10T22:35:21.435Z"
    }
   },
   "cell_type": "code",
   "source": [
    "df = df.dropna().reset_index(drop = True)\n",
    "df['sic2'] = df['sic2'].astype(int)\n",
    "\n",
    "# Need to standardize data to [-1, 1] within each cross section, for each variable."
   ],
   "id": "6fe7917dc89f0ad7",
   "outputs": [],
   "execution_count": 8
  },
  {
   "metadata": {
    "ExecuteTime": {
     "end_time": "2024-12-10T22:35:39.258523Z",
     "start_time": "2024-12-10T22:35:30.099559Z"
    }
   },
   "cell_type": "code",
   "source": [
    "# Convert industry code into categorical variable\n",
    "df = pd.concat([df, pd.get_dummies(df[\"sic2\"], prefix=\"ind\")], axis=1)\n",
    "df = df.drop(columns=['sic2'])"
   ],
   "id": "325ab74ff83733b4",
   "outputs": [],
   "execution_count": 9
  },
  {
   "metadata": {
    "ExecuteTime": {
     "end_time": "2024-12-10T22:38:03.001751Z",
     "start_time": "2024-12-10T22:38:02.974042Z"
    }
   },
   "cell_type": "code",
   "source": [
    "train_cutoff = '2014-12'\n",
    "excluded_cols = ['permno', 'DATE', 'month', 'date', 'ret_excess']\n",
    "target = 'ret_excess'\n"
   ],
   "id": "560206956e65fa87",
   "outputs": [],
   "execution_count": 12
  },
  {
   "metadata": {
    "ExecuteTime": {
     "end_time": "2024-12-10T22:44:18.645087Z",
     "start_time": "2024-12-10T22:44:18.638723Z"
    }
   },
   "cell_type": "code",
   "source": [
    "from sklearn.linear_model import LinearRegression, LassoCV, Lasso\n",
    "from sklearn.metrics import r2_score\n"
   ],
   "id": "fc76b2d5fdee6bdf",
   "outputs": [],
   "execution_count": 15
  },
  {
   "metadata": {
    "ExecuteTime": {
     "end_time": "2024-12-10T22:46:17.602852Z",
     "start_time": "2024-12-10T22:46:10.258953Z"
    }
   },
   "cell_type": "code",
   "source": [
    "X_train = df[df['month'] <= train_cutoff].drop(columns = excluded_cols)\n",
    "y_train = df.loc[df['month'] <= train_cutoff, target]\n",
    "\n",
    "X_test = df[df['month'] > train_cutoff].drop(columns = excluded_cols)\n",
    "y_test = df.loc[df['month'] > train_cutoff, target]"
   ],
   "id": "4ce37e71ca96474a",
   "outputs": [],
   "execution_count": 16
  },
  {
   "metadata": {
    "ExecuteTime": {
     "end_time": "2024-12-10T22:54:10.223036Z",
     "start_time": "2024-12-10T22:53:15.953728Z"
    }
   },
   "cell_type": "code",
   "source": [
    "linreg = LinearRegression()\n",
    "linreg.fit(X_train, y_train)\n",
    "y_pred = linreg.predict(X_test)\n",
    "\n",
    "r2_linear = r2_score(y_test, y_pred)\n",
    "print(f\"{r2_linear:.4f}\")\n"
   ],
   "id": "8b3ededa84f892ad",
   "outputs": [
    {
     "name": "stdout",
     "output_type": "stream",
     "text": [
      "-0.0053\n"
     ]
    }
   ],
   "execution_count": 19
  },
  {
   "metadata": {
    "ExecuteTime": {
     "end_time": "2024-12-10T22:59:01.708724Z",
     "start_time": "2024-12-10T22:57:33.914213Z"
    }
   },
   "cell_type": "code",
   "source": [
    "# lasso = LassoCV(cv = 5, random_state = 0)\n",
    "lasso = Lasso(alpha = 0.001)\n",
    "lasso.fit(X_train, y_train)\n",
    "y_pred = lasso.predict(X_test)\n",
    "\n",
    "r2_lasso = r2_score(y_test, y_pred)\n",
    "print(f\"{r2_linear:.4f}\")\n",
    "print(sum(abs(lasso.coef_) > 1e-8))\n"
   ],
   "id": "cdb430823f931ab",
   "outputs": [
    {
     "name": "stdout",
     "output_type": "stream",
     "text": [
      "-0.0053\n",
      "27\n"
     ]
    }
   ],
   "execution_count": 26
  },
  {
   "metadata": {
    "ExecuteTime": {
     "end_time": "2024-12-10T22:57:13.200813Z",
     "start_time": "2024-12-10T22:57:13.198121Z"
    }
   },
   "cell_type": "code",
   "source": "",
   "id": "f3477c4404a72a71",
   "outputs": [],
   "execution_count": null
  },
  {
   "metadata": {},
   "cell_type": "code",
   "outputs": [],
   "execution_count": null,
   "source": "",
   "id": "43a55ee169f063d8"
  },
  {
   "metadata": {},
   "cell_type": "code",
   "outputs": [],
   "execution_count": null,
   "source": "",
   "id": "65a1f4d7f504dd48"
  }
 ],
 "metadata": {
  "kernelspec": {
   "display_name": "Python 3",
   "language": "python",
   "name": "python3"
  },
  "language_info": {
   "codemirror_mode": {
    "name": "ipython",
    "version": 2
   },
   "file_extension": ".py",
   "mimetype": "text/x-python",
   "name": "python",
   "nbconvert_exporter": "python",
   "pygments_lexer": "ipython2",
   "version": "2.7.6"
  }
 },
 "nbformat": 4,
 "nbformat_minor": 5
}
